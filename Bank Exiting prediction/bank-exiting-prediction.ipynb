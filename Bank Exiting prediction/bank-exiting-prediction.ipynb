{
 "cells": [
  {
   "cell_type": "code",
   "execution_count": 1,
   "metadata": {
    "_cell_guid": "b1076dfc-b9ad-4769-8c92-a6c4dae69d19",
    "_uuid": "8f2839f25d086af736a60e9eeb907d3b93b6e0e5"
   },
   "outputs": [],
   "source": [
    "# This Python 3 environment comes with many helpful analytics libraries installed\n",
    "# It is defined by the kaggle/python Docker image: https://github.com/kaggle/docker-python\n",
    "# For example, here's several helpful packages to load\n",
    "\n",
    "import numpy as np # linear algebra\n",
    "import pandas as pd # data processing, CSV file I/O (e.g. pd.read_csv)\n",
    "\n",
    "# Input data files are available in the read-only \"../input/\" directory\n",
    "# For example, running this (by clicking run or pressing Shift+Enter) will list all files under the input directory\n",
    "\n",
    "import os\n",
    "for dirname, _, filenames in os.walk('/kaggle/input'):\n",
    "    for filename in filenames:\n",
    "        print(os.path.join(dirname, filename))\n",
    "\n",
    "# You can write up to 20GB to the current directory (/kaggle/working/) that gets preserved as output when you create a version using \"Save & Run All\" \n",
    "# You can also write temporary files to /kaggle/temp/, but they won't be saved outside of the current session"
   ]
  },
  {
   "cell_type": "markdown",
   "metadata": {},
   "source": [
    "# Ignoring warnings"
   ]
  },
  {
   "cell_type": "code",
   "execution_count": 2,
   "metadata": {},
   "outputs": [],
   "source": [
    "import warnings\n",
    "warnings.filterwarnings('ignore')"
   ]
  },
  {
   "cell_type": "markdown",
   "metadata": {},
   "source": [
    "# Importing dataset"
   ]
  },
  {
   "cell_type": "code",
   "execution_count": 3,
   "metadata": {},
   "outputs": [
    {
     "data": {
      "text/html": [
       "<div>\n",
       "<style scoped>\n",
       "    .dataframe tbody tr th:only-of-type {\n",
       "        vertical-align: middle;\n",
       "    }\n",
       "\n",
       "    .dataframe tbody tr th {\n",
       "        vertical-align: top;\n",
       "    }\n",
       "\n",
       "    .dataframe thead th {\n",
       "        text-align: right;\n",
       "    }\n",
       "</style>\n",
       "<table border=\"1\" class=\"dataframe\">\n",
       "  <thead>\n",
       "    <tr style=\"text-align: right;\">\n",
       "      <th></th>\n",
       "      <th>RowNumber</th>\n",
       "      <th>CustomerId</th>\n",
       "      <th>Surname</th>\n",
       "      <th>CreditScore</th>\n",
       "      <th>Geography</th>\n",
       "      <th>Gender</th>\n",
       "      <th>Age</th>\n",
       "      <th>Tenure</th>\n",
       "      <th>Balance</th>\n",
       "      <th>NumOfProducts</th>\n",
       "      <th>HasCrCard</th>\n",
       "      <th>IsActiveMember</th>\n",
       "      <th>EstimatedSalary</th>\n",
       "      <th>Exited</th>\n",
       "    </tr>\n",
       "  </thead>\n",
       "  <tbody>\n",
       "    <tr>\n",
       "      <th>0</th>\n",
       "      <td>1</td>\n",
       "      <td>15634602</td>\n",
       "      <td>Hargrave</td>\n",
       "      <td>619</td>\n",
       "      <td>France</td>\n",
       "      <td>Female</td>\n",
       "      <td>42</td>\n",
       "      <td>2</td>\n",
       "      <td>0.00</td>\n",
       "      <td>1</td>\n",
       "      <td>1</td>\n",
       "      <td>1</td>\n",
       "      <td>101348.88</td>\n",
       "      <td>1</td>\n",
       "    </tr>\n",
       "    <tr>\n",
       "      <th>1</th>\n",
       "      <td>2</td>\n",
       "      <td>15647311</td>\n",
       "      <td>Hill</td>\n",
       "      <td>608</td>\n",
       "      <td>Spain</td>\n",
       "      <td>Female</td>\n",
       "      <td>41</td>\n",
       "      <td>1</td>\n",
       "      <td>83807.86</td>\n",
       "      <td>1</td>\n",
       "      <td>0</td>\n",
       "      <td>1</td>\n",
       "      <td>112542.58</td>\n",
       "      <td>0</td>\n",
       "    </tr>\n",
       "    <tr>\n",
       "      <th>2</th>\n",
       "      <td>3</td>\n",
       "      <td>15619304</td>\n",
       "      <td>Onio</td>\n",
       "      <td>502</td>\n",
       "      <td>France</td>\n",
       "      <td>Female</td>\n",
       "      <td>42</td>\n",
       "      <td>8</td>\n",
       "      <td>159660.80</td>\n",
       "      <td>3</td>\n",
       "      <td>1</td>\n",
       "      <td>0</td>\n",
       "      <td>113931.57</td>\n",
       "      <td>1</td>\n",
       "    </tr>\n",
       "    <tr>\n",
       "      <th>3</th>\n",
       "      <td>4</td>\n",
       "      <td>15701354</td>\n",
       "      <td>Boni</td>\n",
       "      <td>699</td>\n",
       "      <td>France</td>\n",
       "      <td>Female</td>\n",
       "      <td>39</td>\n",
       "      <td>1</td>\n",
       "      <td>0.00</td>\n",
       "      <td>2</td>\n",
       "      <td>0</td>\n",
       "      <td>0</td>\n",
       "      <td>93826.63</td>\n",
       "      <td>0</td>\n",
       "    </tr>\n",
       "    <tr>\n",
       "      <th>4</th>\n",
       "      <td>5</td>\n",
       "      <td>15737888</td>\n",
       "      <td>Mitchell</td>\n",
       "      <td>850</td>\n",
       "      <td>Spain</td>\n",
       "      <td>Female</td>\n",
       "      <td>43</td>\n",
       "      <td>2</td>\n",
       "      <td>125510.82</td>\n",
       "      <td>1</td>\n",
       "      <td>1</td>\n",
       "      <td>1</td>\n",
       "      <td>79084.10</td>\n",
       "      <td>0</td>\n",
       "    </tr>\n",
       "  </tbody>\n",
       "</table>\n",
       "</div>"
      ],
      "text/plain": [
       "   RowNumber  CustomerId   Surname  CreditScore Geography  Gender  Age  \\\n",
       "0          1    15634602  Hargrave          619    France  Female   42   \n",
       "1          2    15647311      Hill          608     Spain  Female   41   \n",
       "2          3    15619304      Onio          502    France  Female   42   \n",
       "3          4    15701354      Boni          699    France  Female   39   \n",
       "4          5    15737888  Mitchell          850     Spain  Female   43   \n",
       "\n",
       "   Tenure    Balance  NumOfProducts  HasCrCard  IsActiveMember  \\\n",
       "0       2       0.00              1          1               1   \n",
       "1       1   83807.86              1          0               1   \n",
       "2       8  159660.80              3          1               0   \n",
       "3       1       0.00              2          0               0   \n",
       "4       2  125510.82              1          1               1   \n",
       "\n",
       "   EstimatedSalary  Exited  \n",
       "0        101348.88       1  \n",
       "1        112542.58       0  \n",
       "2        113931.57       1  \n",
       "3         93826.63       0  \n",
       "4         79084.10       0  "
      ]
     },
     "execution_count": 3,
     "metadata": {},
     "output_type": "execute_result"
    }
   ],
   "source": [
    "df = pd.read_csv('Churn Modeling.csv')\n",
    "df.head()"
   ]
  },
  {
   "cell_type": "markdown",
   "metadata": {},
   "source": [
    "# Calculating null values"
   ]
  },
  {
   "cell_type": "code",
   "execution_count": 4,
   "metadata": {},
   "outputs": [
    {
     "data": {
      "text/plain": [
       "RowNumber          0\n",
       "CustomerId         0\n",
       "Surname            0\n",
       "CreditScore        0\n",
       "Geography          0\n",
       "Gender             0\n",
       "Age                0\n",
       "Tenure             0\n",
       "Balance            0\n",
       "NumOfProducts      0\n",
       "HasCrCard          0\n",
       "IsActiveMember     0\n",
       "EstimatedSalary    0\n",
       "Exited             0\n",
       "dtype: int64"
      ]
     },
     "execution_count": 4,
     "metadata": {},
     "output_type": "execute_result"
    }
   ],
   "source": [
    "df.isnull().sum()"
   ]
  },
  {
   "cell_type": "markdown",
   "metadata": {},
   "source": [
    "# Selecting features and targets"
   ]
  },
  {
   "cell_type": "code",
   "execution_count": 5,
   "metadata": {},
   "outputs": [],
   "source": [
    "df.drop(['RowNumber', 'CustomerId', 'Surname'],axis=1, inplace= True)\n",
    "X = df.iloc[:,:-1]\n",
    "y =df.iloc[:, -1]"
   ]
  },
  {
   "cell_type": "markdown",
   "metadata": {},
   "source": [
    "# One-Hot-Encoding"
   ]
  },
  {
   "cell_type": "code",
   "execution_count": 6,
   "metadata": {},
   "outputs": [
    {
     "data": {
      "text/html": [
       "<div>\n",
       "<style scoped>\n",
       "    .dataframe tbody tr th:only-of-type {\n",
       "        vertical-align: middle;\n",
       "    }\n",
       "\n",
       "    .dataframe tbody tr th {\n",
       "        vertical-align: top;\n",
       "    }\n",
       "\n",
       "    .dataframe thead th {\n",
       "        text-align: right;\n",
       "    }\n",
       "</style>\n",
       "<table border=\"1\" class=\"dataframe\">\n",
       "  <thead>\n",
       "    <tr style=\"text-align: right;\">\n",
       "      <th></th>\n",
       "      <th>CreditScore</th>\n",
       "      <th>Geography</th>\n",
       "      <th>Gender</th>\n",
       "      <th>Age</th>\n",
       "      <th>Tenure</th>\n",
       "      <th>Balance</th>\n",
       "      <th>NumOfProducts</th>\n",
       "      <th>HasCrCard</th>\n",
       "      <th>IsActiveMember</th>\n",
       "      <th>EstimatedSalary</th>\n",
       "      <th>Exited</th>\n",
       "    </tr>\n",
       "  </thead>\n",
       "  <tbody>\n",
       "    <tr>\n",
       "      <th>0</th>\n",
       "      <td>619</td>\n",
       "      <td>France</td>\n",
       "      <td>Female</td>\n",
       "      <td>42</td>\n",
       "      <td>2</td>\n",
       "      <td>0.00</td>\n",
       "      <td>1</td>\n",
       "      <td>1</td>\n",
       "      <td>1</td>\n",
       "      <td>101348.88</td>\n",
       "      <td>1</td>\n",
       "    </tr>\n",
       "    <tr>\n",
       "      <th>1</th>\n",
       "      <td>608</td>\n",
       "      <td>Spain</td>\n",
       "      <td>Female</td>\n",
       "      <td>41</td>\n",
       "      <td>1</td>\n",
       "      <td>83807.86</td>\n",
       "      <td>1</td>\n",
       "      <td>0</td>\n",
       "      <td>1</td>\n",
       "      <td>112542.58</td>\n",
       "      <td>0</td>\n",
       "    </tr>\n",
       "    <tr>\n",
       "      <th>2</th>\n",
       "      <td>502</td>\n",
       "      <td>France</td>\n",
       "      <td>Female</td>\n",
       "      <td>42</td>\n",
       "      <td>8</td>\n",
       "      <td>159660.80</td>\n",
       "      <td>3</td>\n",
       "      <td>1</td>\n",
       "      <td>0</td>\n",
       "      <td>113931.57</td>\n",
       "      <td>1</td>\n",
       "    </tr>\n",
       "    <tr>\n",
       "      <th>3</th>\n",
       "      <td>699</td>\n",
       "      <td>France</td>\n",
       "      <td>Female</td>\n",
       "      <td>39</td>\n",
       "      <td>1</td>\n",
       "      <td>0.00</td>\n",
       "      <td>2</td>\n",
       "      <td>0</td>\n",
       "      <td>0</td>\n",
       "      <td>93826.63</td>\n",
       "      <td>0</td>\n",
       "    </tr>\n",
       "    <tr>\n",
       "      <th>4</th>\n",
       "      <td>850</td>\n",
       "      <td>Spain</td>\n",
       "      <td>Female</td>\n",
       "      <td>43</td>\n",
       "      <td>2</td>\n",
       "      <td>125510.82</td>\n",
       "      <td>1</td>\n",
       "      <td>1</td>\n",
       "      <td>1</td>\n",
       "      <td>79084.10</td>\n",
       "      <td>0</td>\n",
       "    </tr>\n",
       "  </tbody>\n",
       "</table>\n",
       "</div>"
      ],
      "text/plain": [
       "   CreditScore Geography  Gender  Age  Tenure    Balance  NumOfProducts  \\\n",
       "0          619    France  Female   42       2       0.00              1   \n",
       "1          608     Spain  Female   41       1   83807.86              1   \n",
       "2          502    France  Female   42       8  159660.80              3   \n",
       "3          699    France  Female   39       1       0.00              2   \n",
       "4          850     Spain  Female   43       2  125510.82              1   \n",
       "\n",
       "   HasCrCard  IsActiveMember  EstimatedSalary  Exited  \n",
       "0          1               1        101348.88       1  \n",
       "1          0               1        112542.58       0  \n",
       "2          1               0        113931.57       1  \n",
       "3          0               0         93826.63       0  \n",
       "4          1               1         79084.10       0  "
      ]
     },
     "execution_count": 6,
     "metadata": {},
     "output_type": "execute_result"
    }
   ],
   "source": [
    "X = pd.get_dummies(X, drop_first = True)\n",
    "df.head()"
   ]
  },
  {
   "cell_type": "markdown",
   "metadata": {},
   "source": [
    "# Splitting dataset into training and testing data"
   ]
  },
  {
   "cell_type": "code",
   "execution_count": 7,
   "metadata": {},
   "outputs": [],
   "source": [
    "from sklearn.model_selection import train_test_split\n",
    "X_train, X_test,  y_train, y_test =train_test_split(X, y, random_state=1)"
   ]
  },
  {
   "cell_type": "markdown",
   "metadata": {},
   "source": [
    "# Feature Scaling"
   ]
  },
  {
   "cell_type": "code",
   "execution_count": 8,
   "metadata": {},
   "outputs": [],
   "source": [
    "from sklearn.preprocessing import StandardScaler\n",
    "sc = StandardScaler()\n",
    "X_train =  sc.fit_transform(X_train)\n",
    "X_test = sc.transform(X_test)\n"
   ]
  },
  {
   "cell_type": "markdown",
   "metadata": {},
   "source": [
    "# Importing necessary libraries"
   ]
  },
  {
   "cell_type": "code",
   "execution_count": 9,
   "metadata": {},
   "outputs": [],
   "source": [
    "import tensorflow as tf\n",
    "from tensorflow import keras\n",
    "from keras.models import Sequential\n",
    "from keras.layers import ReLU, Dense, Dropout"
   ]
  },
  {
   "cell_type": "markdown",
   "metadata": {},
   "source": [
    "# Adding layers"
   ]
  },
  {
   "cell_type": "code",
   "execution_count": 10,
   "metadata": {},
   "outputs": [],
   "source": [
    "ann = Sequential()\n",
    "ann.add(Dense(units=10, kernel_initializer= 'he_uniform'  , activation = 'relu'))\n",
    "ann.add(Dense(units= 10, kernel_initializer= 'he_uniform' ,activation ='relu'))\n",
    "ann.add(Dense(units= 10, kernel_initializer= 'he_uniform', activation = 'relu'))\n",
    "ann.add(Dense(units=1, kernel_initializer= 'glorot_uniform' , activation = 'sigmoid'))\n",
    "ann.compile(optimizer = 'adam', loss='binary_crossentropy', metrics=['accuracy'])"
   ]
  },
  {
   "cell_type": "markdown",
   "metadata": {},
   "source": [
    "# Training the model"
   ]
  },
  {
   "cell_type": "code",
   "execution_count": 11,
   "metadata": {},
   "outputs": [
    {
     "name": "stdout",
     "output_type": "stream",
     "text": [
      "Epoch 1/100\n",
      "503/503 [==============================] - 3s 3ms/step - loss: 0.5814 - accuracy: 0.7219 - val_loss: 0.4728 - val_accuracy: 0.8001\n",
      "Epoch 2/100\n",
      "503/503 [==============================] - 1s 1ms/step - loss: 0.4549 - accuracy: 0.8042 - val_loss: 0.4351 - val_accuracy: 0.8086\n",
      "Epoch 3/100\n",
      "503/503 [==============================] - 1s 1ms/step - loss: 0.4442 - accuracy: 0.8063 - val_loss: 0.4233 - val_accuracy: 0.8078\n",
      "Epoch 4/100\n",
      "503/503 [==============================] - 1s 1ms/step - loss: 0.4120 - accuracy: 0.8179 - val_loss: 0.4103 - val_accuracy: 0.8158\n",
      "Epoch 5/100\n",
      "503/503 [==============================] - 1s 1ms/step - loss: 0.4036 - accuracy: 0.8215 - val_loss: 0.4040 - val_accuracy: 0.8138\n",
      "Epoch 6/100\n",
      "503/503 [==============================] - 1s 1ms/step - loss: 0.3902 - accuracy: 0.8286 - val_loss: 0.3984 - val_accuracy: 0.8142\n",
      "Epoch 7/100\n",
      "503/503 [==============================] - 1s 1ms/step - loss: 0.3893 - accuracy: 0.8298 - val_loss: 0.3889 - val_accuracy: 0.8195\n",
      "Epoch 8/100\n",
      "503/503 [==============================] - 1s 1ms/step - loss: 0.3762 - accuracy: 0.8411 - val_loss: 0.3701 - val_accuracy: 0.8425\n",
      "Epoch 9/100\n",
      "503/503 [==============================] - 1s 2ms/step - loss: 0.3732 - accuracy: 0.8453 - val_loss: 0.3621 - val_accuracy: 0.8469\n",
      "Epoch 10/100\n",
      "503/503 [==============================] - 1s 1ms/step - loss: 0.3505 - accuracy: 0.8586 - val_loss: 0.3581 - val_accuracy: 0.8506\n",
      "Epoch 11/100\n",
      "503/503 [==============================] - 1s 2ms/step - loss: 0.3535 - accuracy: 0.8528 - val_loss: 0.3574 - val_accuracy: 0.8473\n",
      "Epoch 12/100\n",
      "503/503 [==============================] - 1s 1ms/step - loss: 0.3461 - accuracy: 0.8615 - val_loss: 0.3568 - val_accuracy: 0.8506\n",
      "Epoch 13/100\n",
      "503/503 [==============================] - 1s 1ms/step - loss: 0.3517 - accuracy: 0.8612 - val_loss: 0.3541 - val_accuracy: 0.8498\n",
      "Epoch 14/100\n",
      "503/503 [==============================] - 1s 1ms/step - loss: 0.3486 - accuracy: 0.8583 - val_loss: 0.3544 - val_accuracy: 0.8514\n",
      "Epoch 15/100\n",
      "503/503 [==============================] - 1s 2ms/step - loss: 0.3357 - accuracy: 0.8656 - val_loss: 0.3547 - val_accuracy: 0.8538\n",
      "Epoch 16/100\n",
      "503/503 [==============================] - 1s 2ms/step - loss: 0.3391 - accuracy: 0.8648 - val_loss: 0.3541 - val_accuracy: 0.8546\n",
      "Epoch 17/100\n",
      "503/503 [==============================] - 1s 2ms/step - loss: 0.3353 - accuracy: 0.8644 - val_loss: 0.3525 - val_accuracy: 0.8534\n",
      "Epoch 18/100\n",
      "503/503 [==============================] - 1s 1ms/step - loss: 0.3506 - accuracy: 0.8674 - val_loss: 0.3531 - val_accuracy: 0.8518\n",
      "Epoch 19/100\n",
      "503/503 [==============================] - 1s 1ms/step - loss: 0.3460 - accuracy: 0.8590 - val_loss: 0.3552 - val_accuracy: 0.8526\n",
      "Epoch 20/100\n",
      "503/503 [==============================] - 1s 1ms/step - loss: 0.3468 - accuracy: 0.8533 - val_loss: 0.3549 - val_accuracy: 0.8534\n",
      "Epoch 21/100\n",
      "503/503 [==============================] - 1s 1ms/step - loss: 0.3294 - accuracy: 0.8672 - val_loss: 0.3544 - val_accuracy: 0.8526\n",
      "Epoch 22/100\n",
      "503/503 [==============================] - 1s 1ms/step - loss: 0.3356 - accuracy: 0.8654 - val_loss: 0.3570 - val_accuracy: 0.8530\n",
      "Epoch 23/100\n",
      "503/503 [==============================] - 1s 1ms/step - loss: 0.3218 - accuracy: 0.8663 - val_loss: 0.3591 - val_accuracy: 0.8477\n",
      "Epoch 24/100\n",
      "503/503 [==============================] - 1s 1ms/step - loss: 0.3451 - accuracy: 0.8561 - val_loss: 0.3579 - val_accuracy: 0.8502\n",
      "Epoch 25/100\n",
      "503/503 [==============================] - 1s 1ms/step - loss: 0.3388 - accuracy: 0.8632 - val_loss: 0.3555 - val_accuracy: 0.8526\n",
      "Epoch 26/100\n",
      "503/503 [==============================] - 1s 1ms/step - loss: 0.3381 - accuracy: 0.8587 - val_loss: 0.3583 - val_accuracy: 0.8538\n",
      "Epoch 27/100\n",
      "503/503 [==============================] - 1s 1ms/step - loss: 0.3440 - accuracy: 0.8649 - val_loss: 0.3554 - val_accuracy: 0.8522\n",
      "Epoch 28/100\n",
      "503/503 [==============================] - 1s 1ms/step - loss: 0.3317 - accuracy: 0.8630 - val_loss: 0.3560 - val_accuracy: 0.8542\n",
      "Epoch 29/100\n",
      "503/503 [==============================] - 1s 2ms/step - loss: 0.3247 - accuracy: 0.8701 - val_loss: 0.3578 - val_accuracy: 0.8510\n",
      "Epoch 30/100\n",
      "503/503 [==============================] - 1s 1ms/step - loss: 0.3373 - accuracy: 0.8582 - val_loss: 0.3554 - val_accuracy: 0.8522\n",
      "Epoch 31/100\n",
      "503/503 [==============================] - 1s 1ms/step - loss: 0.3277 - accuracy: 0.8681 - val_loss: 0.3572 - val_accuracy: 0.8574\n",
      "Epoch 32/100\n",
      "503/503 [==============================] - 1s 1ms/step - loss: 0.3236 - accuracy: 0.8680 - val_loss: 0.3563 - val_accuracy: 0.8514\n",
      "Epoch 33/100\n",
      "503/503 [==============================] - 1s 1ms/step - loss: 0.3342 - accuracy: 0.8640 - val_loss: 0.3570 - val_accuracy: 0.8530\n",
      "Epoch 34/100\n",
      "503/503 [==============================] - 1s 1ms/step - loss: 0.3237 - accuracy: 0.8727 - val_loss: 0.3576 - val_accuracy: 0.8502\n",
      "Epoch 35/100\n",
      "503/503 [==============================] - 1s 1ms/step - loss: 0.3270 - accuracy: 0.8641 - val_loss: 0.3619 - val_accuracy: 0.8506\n",
      "Epoch 36/100\n",
      "503/503 [==============================] - 1s 1ms/step - loss: 0.3315 - accuracy: 0.8679 - val_loss: 0.3616 - val_accuracy: 0.8489\n",
      "Epoch 37/100\n",
      "503/503 [==============================] - 1s 2ms/step - loss: 0.3265 - accuracy: 0.8691 - val_loss: 0.3614 - val_accuracy: 0.8485\n",
      "Epoch 38/100\n",
      "503/503 [==============================] - 1s 1ms/step - loss: 0.3351 - accuracy: 0.8629 - val_loss: 0.3594 - val_accuracy: 0.8526\n",
      "Epoch 39/100\n",
      "503/503 [==============================] - 1s 1ms/step - loss: 0.3255 - accuracy: 0.8634 - val_loss: 0.3602 - val_accuracy: 0.8498\n",
      "Epoch 40/100\n",
      "503/503 [==============================] - 1s 1ms/step - loss: 0.3324 - accuracy: 0.8666 - val_loss: 0.3627 - val_accuracy: 0.8538\n",
      "Epoch 41/100\n",
      "503/503 [==============================] - 1s 1ms/step - loss: 0.3313 - accuracy: 0.8631 - val_loss: 0.3600 - val_accuracy: 0.8494\n",
      "Epoch 42/100\n",
      "503/503 [==============================] - 1s 1ms/step - loss: 0.3450 - accuracy: 0.8584 - val_loss: 0.3603 - val_accuracy: 0.8526\n",
      "Epoch 43/100\n",
      "503/503 [==============================] - 1s 1ms/step - loss: 0.3279 - accuracy: 0.8656 - val_loss: 0.3582 - val_accuracy: 0.8522\n",
      "Epoch 44/100\n",
      "503/503 [==============================] - 1s 1ms/step - loss: 0.3357 - accuracy: 0.8580 - val_loss: 0.3607 - val_accuracy: 0.8498\n",
      "Epoch 45/100\n",
      "503/503 [==============================] - 1s 2ms/step - loss: 0.3372 - accuracy: 0.8636 - val_loss: 0.3587 - val_accuracy: 0.8522\n",
      "Epoch 46/100\n",
      "503/503 [==============================] - 1s 2ms/step - loss: 0.3274 - accuracy: 0.8709 - val_loss: 0.3609 - val_accuracy: 0.8530\n",
      "Epoch 47/100\n",
      "503/503 [==============================] - 1s 2ms/step - loss: 0.3310 - accuracy: 0.8706 - val_loss: 0.3616 - val_accuracy: 0.8514\n",
      "Epoch 48/100\n",
      "503/503 [==============================] - 1s 1ms/step - loss: 0.3293 - accuracy: 0.8651 - val_loss: 0.3621 - val_accuracy: 0.8502\n",
      "Epoch 49/100\n",
      "503/503 [==============================] - 1s 2ms/step - loss: 0.3202 - accuracy: 0.8721 - val_loss: 0.3609 - val_accuracy: 0.8526\n",
      "Epoch 50/100\n",
      "503/503 [==============================] - 1s 2ms/step - loss: 0.3294 - accuracy: 0.8640 - val_loss: 0.3610 - val_accuracy: 0.8506\n",
      "Epoch 51/100\n",
      "503/503 [==============================] - 1s 1ms/step - loss: 0.3236 - accuracy: 0.8707 - val_loss: 0.3662 - val_accuracy: 0.8498\n",
      "Epoch 52/100\n",
      "503/503 [==============================] - 1s 1ms/step - loss: 0.3241 - accuracy: 0.8690 - val_loss: 0.3643 - val_accuracy: 0.8510\n",
      "Epoch 53/100\n",
      "503/503 [==============================] - 1s 1ms/step - loss: 0.3321 - accuracy: 0.8657 - val_loss: 0.3643 - val_accuracy: 0.8498\n",
      "Epoch 54/100\n",
      "503/503 [==============================] - 1s 1ms/step - loss: 0.3159 - accuracy: 0.8726 - val_loss: 0.3618 - val_accuracy: 0.8489\n",
      "Epoch 55/100\n",
      "503/503 [==============================] - 1s 1ms/step - loss: 0.3265 - accuracy: 0.8685 - val_loss: 0.3647 - val_accuracy: 0.8502\n",
      "Epoch 56/100\n",
      "503/503 [==============================] - 1s 2ms/step - loss: 0.3158 - accuracy: 0.8724 - val_loss: 0.3635 - val_accuracy: 0.8473\n",
      "Epoch 57/100\n",
      "503/503 [==============================] - 1s 1ms/step - loss: 0.3248 - accuracy: 0.8668 - val_loss: 0.3628 - val_accuracy: 0.8469\n"
     ]
    },
    {
     "name": "stdout",
     "output_type": "stream",
     "text": [
      "Epoch 58/100\n",
      "503/503 [==============================] - 1s 1ms/step - loss: 0.3261 - accuracy: 0.8697 - val_loss: 0.3661 - val_accuracy: 0.8453\n",
      "Epoch 59/100\n",
      "503/503 [==============================] - 1s 1ms/step - loss: 0.3411 - accuracy: 0.8590 - val_loss: 0.3652 - val_accuracy: 0.8518\n",
      "Epoch 60/100\n",
      "503/503 [==============================] - 1s 2ms/step - loss: 0.3270 - accuracy: 0.8721 - val_loss: 0.3650 - val_accuracy: 0.8494\n",
      "Epoch 61/100\n",
      "503/503 [==============================] - 1s 1ms/step - loss: 0.3252 - accuracy: 0.8687 - val_loss: 0.3631 - val_accuracy: 0.8485\n",
      "Epoch 62/100\n",
      "503/503 [==============================] - 1s 2ms/step - loss: 0.3124 - accuracy: 0.8779 - val_loss: 0.3663 - val_accuracy: 0.8494\n",
      "Epoch 63/100\n",
      "503/503 [==============================] - 1s 2ms/step - loss: 0.3368 - accuracy: 0.8587 - val_loss: 0.3689 - val_accuracy: 0.8518\n",
      "Epoch 64/100\n",
      "503/503 [==============================] - 1s 1ms/step - loss: 0.3183 - accuracy: 0.8711 - val_loss: 0.3645 - val_accuracy: 0.8481\n",
      "Epoch 65/100\n",
      "503/503 [==============================] - 1s 1ms/step - loss: 0.3257 - accuracy: 0.8718 - val_loss: 0.3661 - val_accuracy: 0.8538\n",
      "Epoch 66/100\n",
      "503/503 [==============================] - 1s 2ms/step - loss: 0.3052 - accuracy: 0.8783 - val_loss: 0.3649 - val_accuracy: 0.8477\n",
      "Epoch 67/100\n",
      "503/503 [==============================] - 1s 2ms/step - loss: 0.3282 - accuracy: 0.8699 - val_loss: 0.3651 - val_accuracy: 0.8518\n",
      "Epoch 68/100\n",
      "503/503 [==============================] - 1s 1ms/step - loss: 0.3225 - accuracy: 0.8709 - val_loss: 0.3653 - val_accuracy: 0.8510\n",
      "Epoch 69/100\n",
      "503/503 [==============================] - 1s 1ms/step - loss: 0.3141 - accuracy: 0.8787 - val_loss: 0.3641 - val_accuracy: 0.8498\n",
      "Epoch 70/100\n",
      "503/503 [==============================] - 1s 1ms/step - loss: 0.3207 - accuracy: 0.8732 - val_loss: 0.3671 - val_accuracy: 0.8518\n",
      "Epoch 71/100\n",
      "503/503 [==============================] - 1s 1ms/step - loss: 0.3095 - accuracy: 0.8730 - val_loss: 0.3695 - val_accuracy: 0.8465\n",
      "Epoch 72/100\n",
      "503/503 [==============================] - 1s 1ms/step - loss: 0.3185 - accuracy: 0.8679 - val_loss: 0.3693 - val_accuracy: 0.8522\n",
      "Epoch 73/100\n",
      "503/503 [==============================] - 1s 2ms/step - loss: 0.3186 - accuracy: 0.8662 - val_loss: 0.3669 - val_accuracy: 0.8489\n",
      "Epoch 74/100\n",
      "503/503 [==============================] - 1s 1ms/step - loss: 0.3242 - accuracy: 0.8672 - val_loss: 0.3698 - val_accuracy: 0.8469\n",
      "Epoch 75/100\n",
      "503/503 [==============================] - 1s 1ms/step - loss: 0.3086 - accuracy: 0.8777 - val_loss: 0.3672 - val_accuracy: 0.8502\n",
      "Epoch 76/100\n",
      "503/503 [==============================] - 1s 1ms/step - loss: 0.3197 - accuracy: 0.8725 - val_loss: 0.3664 - val_accuracy: 0.8473\n",
      "Epoch 77/100\n",
      "503/503 [==============================] - 1s 2ms/step - loss: 0.3132 - accuracy: 0.8706 - val_loss: 0.3672 - val_accuracy: 0.8506\n",
      "Epoch 78/100\n",
      "503/503 [==============================] - 1s 2ms/step - loss: 0.3062 - accuracy: 0.8730 - val_loss: 0.3670 - val_accuracy: 0.8498\n",
      "Epoch 79/100\n",
      "503/503 [==============================] - 1s 1ms/step - loss: 0.3145 - accuracy: 0.8730 - val_loss: 0.3658 - val_accuracy: 0.8510\n",
      "Epoch 80/100\n",
      "503/503 [==============================] - 1s 1ms/step - loss: 0.3027 - accuracy: 0.8839 - val_loss: 0.3637 - val_accuracy: 0.8506\n",
      "Epoch 81/100\n",
      "503/503 [==============================] - 1s 2ms/step - loss: 0.3206 - accuracy: 0.8717 - val_loss: 0.3653 - val_accuracy: 0.8514\n",
      "Epoch 82/100\n",
      "503/503 [==============================] - 1s 1ms/step - loss: 0.3159 - accuracy: 0.8769 - val_loss: 0.3689 - val_accuracy: 0.8477\n",
      "Epoch 83/100\n",
      "503/503 [==============================] - 1s 1ms/step - loss: 0.3232 - accuracy: 0.8726 - val_loss: 0.3707 - val_accuracy: 0.8437\n",
      "Epoch 84/100\n",
      "503/503 [==============================] - 1s 1ms/step - loss: 0.3289 - accuracy: 0.8677 - val_loss: 0.3652 - val_accuracy: 0.8502\n",
      "Epoch 85/100\n",
      "503/503 [==============================] - 1s 1ms/step - loss: 0.3142 - accuracy: 0.8745 - val_loss: 0.3666 - val_accuracy: 0.8506\n",
      "Epoch 86/100\n",
      "503/503 [==============================] - 1s 1ms/step - loss: 0.3109 - accuracy: 0.8766 - val_loss: 0.3735 - val_accuracy: 0.8429\n",
      "Epoch 87/100\n",
      "503/503 [==============================] - 1s 1ms/step - loss: 0.3229 - accuracy: 0.8680 - val_loss: 0.3696 - val_accuracy: 0.8461\n",
      "Epoch 88/100\n",
      "503/503 [==============================] - 1s 1ms/step - loss: 0.3180 - accuracy: 0.8740 - val_loss: 0.3719 - val_accuracy: 0.8449\n",
      "Epoch 89/100\n",
      "503/503 [==============================] - 1s 1ms/step - loss: 0.3115 - accuracy: 0.8765 - val_loss: 0.3679 - val_accuracy: 0.8481\n",
      "Epoch 90/100\n",
      "503/503 [==============================] - 1s 1ms/step - loss: 0.3036 - accuracy: 0.8820 - val_loss: 0.3676 - val_accuracy: 0.8518\n",
      "Epoch 91/100\n",
      "503/503 [==============================] - 1s 1ms/step - loss: 0.3298 - accuracy: 0.8626 - val_loss: 0.3729 - val_accuracy: 0.8506\n",
      "Epoch 92/100\n",
      "503/503 [==============================] - 1s 1ms/step - loss: 0.3033 - accuracy: 0.8800 - val_loss: 0.3692 - val_accuracy: 0.8498\n",
      "Epoch 93/100\n",
      "503/503 [==============================] - 1s 1ms/step - loss: 0.3023 - accuracy: 0.8817 - val_loss: 0.3726 - val_accuracy: 0.8461\n",
      "Epoch 94/100\n",
      "503/503 [==============================] - 1s 1ms/step - loss: 0.3062 - accuracy: 0.8809 - val_loss: 0.3753 - val_accuracy: 0.8489\n",
      "Epoch 95/100\n",
      "503/503 [==============================] - 1s 1ms/step - loss: 0.3112 - accuracy: 0.8759 - val_loss: 0.3699 - val_accuracy: 0.8498\n",
      "Epoch 96/100\n",
      "503/503 [==============================] - 1s 1ms/step - loss: 0.3067 - accuracy: 0.8728 - val_loss: 0.3735 - val_accuracy: 0.8485\n",
      "Epoch 97/100\n",
      "503/503 [==============================] - 1s 1ms/step - loss: 0.3148 - accuracy: 0.8707 - val_loss: 0.3706 - val_accuracy: 0.8502\n",
      "Epoch 98/100\n",
      "503/503 [==============================] - 1s 2ms/step - loss: 0.3205 - accuracy: 0.8771 - val_loss: 0.3784 - val_accuracy: 0.8413\n",
      "Epoch 99/100\n",
      "503/503 [==============================] - 1s 2ms/step - loss: 0.3097 - accuracy: 0.8726 - val_loss: 0.3704 - val_accuracy: 0.8514\n",
      "Epoch 100/100\n",
      "503/503 [==============================] - 1s 1ms/step - loss: 0.3025 - accuracy: 0.8781 - val_loss: 0.3737 - val_accuracy: 0.8465\n"
     ]
    },
    {
     "data": {
      "text/plain": [
       "<tensorflow.python.keras.callbacks.History at 0x7f7c2dca6670>"
      ]
     },
     "execution_count": 11,
     "metadata": {},
     "output_type": "execute_result"
    }
   ],
   "source": [
    "ann.fit(X_train, y_train, validation_split= 0.33, epochs= 100, batch_size=10)"
   ]
  },
  {
   "cell_type": "markdown",
   "metadata": {},
   "source": [
    "# Predicting the results"
   ]
  },
  {
   "cell_type": "code",
   "execution_count": 12,
   "metadata": {},
   "outputs": [
    {
     "data": {
      "text/plain": [
       "0.8592"
      ]
     },
     "execution_count": 12,
     "metadata": {},
     "output_type": "execute_result"
    }
   ],
   "source": [
    "y_pred = ann.predict(X_test)\n",
    "y_pred = (y_pred > 0.5)\n",
    "from sklearn.metrics import accuracy_score\n",
    "accuracy_score(y_pred,y_test)"
   ]
  }
 ],
 "metadata": {
  "kernelspec": {
   "display_name": "Python 3",
   "language": "python",
   "name": "python3"
  },
  "language_info": {
   "codemirror_mode": {
    "name": "ipython",
    "version": 3
   },
   "file_extension": ".py",
   "mimetype": "text/x-python",
   "name": "python",
   "nbconvert_exporter": "python",
   "pygments_lexer": "ipython3",
   "version": "3.8.3"
  }
 },
 "nbformat": 4,
 "nbformat_minor": 4
}
